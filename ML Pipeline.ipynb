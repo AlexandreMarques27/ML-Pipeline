{
 "cells": [
  {
   "cell_type": "markdown",
   "source": [
    "## Initialize spark and read data"
   ],
   "metadata": {
    "collapsed": false
   },
   "id": "375ff949949ed93a"
  },
  {
   "cell_type": "code",
   "execution_count": 12,
   "id": "initial_id",
   "metadata": {
    "collapsed": true,
    "ExecuteTime": {
     "end_time": "2024-05-19T11:15:08.098314400Z",
     "start_time": "2024-05-19T11:15:08.075314400Z"
    }
   },
   "outputs": [
    {
     "name": "stdout",
     "output_type": "stream",
     "text": [
      "<SparkContext master=local[*] appName=pyspark-shell>\n",
      "3.5.1\n"
     ]
    }
   ],
   "source": [
    "import pyspark as ps\n",
    "\n",
    "sc = ps.SparkContext.getOrCreate()\n",
    "print(sc)\n",
    "print(sc.version)"
   ]
  },
  {
   "cell_type": "code",
   "execution_count": 13,
   "outputs": [
    {
     "name": "stdout",
     "output_type": "stream",
     "text": [
      "<pyspark.sql.session.SparkSession object at 0x00000229A4521FA0>\n"
     ]
    }
   ],
   "source": [
    "#import SparkSeccion pyspark.sql\n",
    "from pyspark.sql import SparkSession\n",
    "\n",
    "#Create my_spark\n",
    "spark = SparkSession.builder.getOrCreate()\n",
    "\n",
    "#print my_spark\n",
    "print(spark)"
   ],
   "metadata": {
    "collapsed": false,
    "ExecuteTime": {
     "end_time": "2024-05-19T11:15:10.378616400Z",
     "start_time": "2024-05-19T11:15:10.355564600Z"
    }
   },
   "id": "178f41cbedef8755"
  },
  {
   "cell_type": "code",
   "execution_count": 14,
   "outputs": [],
   "source": [
    "file_path = 'CHARTEVENTS/CHARTEVENTS.csv'\n",
    "\n",
    "#Read in the airports path\n",
    "df_events = spark.read.csv(file_path, header=True)"
   ],
   "metadata": {
    "collapsed": false,
    "ExecuteTime": {
     "end_time": "2024-05-19T11:15:16.876643100Z",
     "start_time": "2024-05-19T11:15:16.606511200Z"
    }
   },
   "id": "68b1e2baa606cb3e"
  },
  {
   "cell_type": "code",
   "execution_count": 15,
   "outputs": [
    {
     "name": "stdout",
     "output_type": "stream",
     "text": [
      "root\n",
      " |-- ROW_ID: string (nullable = true)\n",
      " |-- SUBJECT_ID: string (nullable = true)\n",
      " |-- HADM_ID: string (nullable = true)\n",
      " |-- ICUSTAY_ID: string (nullable = true)\n",
      " |-- ITEMID: string (nullable = true)\n",
      " |-- CHARTTIME: string (nullable = true)\n",
      " |-- STORETIME: string (nullable = true)\n",
      " |-- CGID: string (nullable = true)\n",
      " |-- VALUE: string (nullable = true)\n",
      " |-- VALUENUM: string (nullable = true)\n",
      " |-- VALUEUOM: string (nullable = true)\n",
      " |-- WARNING: string (nullable = true)\n",
      " |-- ERROR: string (nullable = true)\n",
      " |-- RESULTSTATUS: string (nullable = true)\n",
      " |-- STOPPED: string (nullable = true)\n"
     ]
    }
   ],
   "source": [
    "df_events.printSchema()"
   ],
   "metadata": {
    "collapsed": false,
    "ExecuteTime": {
     "end_time": "2024-05-19T11:15:22.592512900Z",
     "start_time": "2024-05-19T11:15:22.564705700Z"
    }
   },
   "id": "4388597faa49956"
  },
  {
   "cell_type": "code",
   "execution_count": 16,
   "outputs": [
    {
     "name": "stdout",
     "output_type": "stream",
     "text": [
      "+------+----------+-------+----------+------+-------------------+-------------------+-----+-----+--------+--------+-------+-----+------------+-------+\n",
      "|ROW_ID|SUBJECT_ID|HADM_ID|ICUSTAY_ID|ITEMID|          CHARTTIME|          STORETIME| CGID|VALUE|VALUENUM|VALUEUOM|WARNING|ERROR|RESULTSTATUS|STOPPED|\n",
      "+------+----------+-------+----------+------+-------------------+-------------------+-----+-----+--------+--------+-------+-----+------------+-------+\n",
      "|   788|        36| 165660|    241249|223834|2134-05-12 12:00:00|2134-05-12 13:56:00|17525|   15|      15|   L/min|      0|    0|        NULL|   NULL|\n",
      "|   789|        36| 165660|    241249|223835|2134-05-12 12:00:00|2134-05-12 13:56:00|17525|  100|     100|    NULL|      0|    0|        NULL|   NULL|\n",
      "|   790|        36| 165660|    241249|224328|2134-05-12 12:00:00|2134-05-12 12:18:00|20823|  .37|     .37|    NULL|      0|    0|        NULL|   NULL|\n",
      "|   791|        36| 165660|    241249|224329|2134-05-12 12:00:00|2134-05-12 12:19:00|20823|    6|       6|     min|      0|    0|        NULL|   NULL|\n",
      "|   792|        36| 165660|    241249|224330|2134-05-12 12:00:00|2134-05-12 12:19:00|20823|  2.5|     2.5|    NULL|      0|    0|        NULL|   NULL|\n",
      "|   793|        36| 165660|    241249|224331|2134-05-12 12:00:00|2134-05-12 12:19:00|20823|    0|       0|   ml/hr|      0|    0|        NULL|   NULL|\n",
      "|   794|        36| 165660|    241249|224332|2134-05-12 12:00:00|2134-05-12 14:44:00|17525|    3|       3|    NULL|      0|    0|        NULL|   NULL|\n",
      "|   795|        36| 165660|    241249|224663|2134-05-12 12:00:00|2134-05-12 14:44:00|17525|    8|       8|    NULL|      0|    0|        NULL|   NULL|\n",
      "|   796|        36| 165660|    241249|224665|2134-05-12 12:00:00|2134-05-12 14:44:00|17525| 1.11|    1.11|    NULL|      0|    0|        NULL|   NULL|\n",
      "|   797|        36| 165660|    241249|220224|2134-05-12 12:35:00|2134-05-12 12:38:00|20889|   58|      58|    mmHg|      1|    0|        NULL|   NULL|\n",
      "+------+----------+-------+----------+------+-------------------+-------------------+-----+-----+--------+--------+-------+-----+------------+-------+\n"
     ]
    }
   ],
   "source": [
    "df_events.show(10)"
   ],
   "metadata": {
    "collapsed": false,
    "ExecuteTime": {
     "end_time": "2024-05-19T11:15:26.513856100Z",
     "start_time": "2024-05-19T11:15:26.400988200Z"
    }
   },
   "id": "4399f73a7062145"
  },
  {
   "cell_type": "code",
   "execution_count": 6,
   "outputs": [
    {
     "name": "stdout",
     "output_type": "stream",
     "text": [
      "Number of rows: 330712483\n"
     ]
    }
   ],
   "source": [
    "row_count = df_events.count()\n",
    "print(f'Number of rows: {row_count}')"
   ],
   "metadata": {
    "collapsed": false,
    "ExecuteTime": {
     "start_time": "2024-05-18T18:24:26.935060900Z"
    }
   },
   "id": "ed5315aa9d67d8e5"
  },
  {
   "cell_type": "markdown",
   "source": [
    "## Data visualization"
   ],
   "metadata": {
    "collapsed": false
   },
   "id": "958d2206b94f39fc"
  },
  {
   "cell_type": "code",
   "execution_count": null,
   "outputs": [],
   "source": [],
   "metadata": {
    "collapsed": false
   },
   "id": "9f0bbfef8e4928d0"
  }
 ],
 "metadata": {
  "kernelspec": {
   "display_name": "Python 3",
   "language": "python",
   "name": "python3"
  },
  "language_info": {
   "codemirror_mode": {
    "name": "ipython",
    "version": 2
   },
   "file_extension": ".py",
   "mimetype": "text/x-python",
   "name": "python",
   "nbconvert_exporter": "python",
   "pygments_lexer": "ipython2",
   "version": "2.7.6"
  }
 },
 "nbformat": 4,
 "nbformat_minor": 5
}
